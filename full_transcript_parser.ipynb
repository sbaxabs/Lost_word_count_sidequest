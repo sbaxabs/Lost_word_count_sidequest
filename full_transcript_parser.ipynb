{
 "cells": [
  {
   "cell_type": "code",
   "execution_count": 1,
   "metadata": {},
   "outputs": [
    {
     "name": "stdout",
     "output_type": "stream",
     "text": [
      "Found 259 transcript links. Processing...\n",
      "Finished\n"
     ]
    }
   ],
   "source": [
    "import requests\n",
    "from bs4 import BeautifulSoup\n",
    "import re\n",
    "import pandas as pd\n",
    "from collections import defaultdict\n",
    "import matplotlib.pyplot as plt\n",
    "from wordcloud import WordCloud\n",
    "from urllib.parse import urljoin\n",
    "\n",
    "# Base URL for relative links\n",
    "BASE_URL = \"https://lostpedia.fandom.com\"\n",
    "\n",
    "# URL of the first transcript page\n",
    "start_url = \"https://lostpedia.fandom.com/wiki/Pilot,_Part_1_transcript\"\n",
    "\n",
    "# Function to extract transcript links\n",
    "def get_transcript_links(start_url):\n",
    "    response = requests.get(start_url)\n",
    "    soup = BeautifulSoup(response.text, \"html.parser\")\n",
    "\n",
    "    # Find navbox tables that contain episode links\n",
    "    transcript_links = []\n",
    "    for td in soup.find_all(\"td\", class_=re.compile(r\"navbox-list\")):\n",
    "        for a_tag in td.find_all(\"a\", href=True):\n",
    "            href = a_tag[\"href\"]\n",
    "            if \"transcript\" in href.lower():  # Ensure it's a transcript link\n",
    "                full_url = urljoin(BASE_URL, href)  # Convert to absolute URL\n",
    "                transcript_links.append(full_url)\n",
    "    \n",
    "    return transcript_links\n",
    "\n",
    "# Function to extract dialogue word counts from a transcript page\n",
    "def extract_dialogue_data(url, character_word_count):\n",
    "    response = requests.get(url)\n",
    "    soup = BeautifulSoup(response.text, \"html.parser\")\n",
    "\n",
    "    paragraphs = soup.find_all(\"p\")\n",
    "    dialogue_pattern = re.compile(r\"^([A-Z]+):\\s*(.+)$\")\n",
    "\n",
    "    for p in paragraphs:\n",
    "        text = p.get_text(strip=True)\n",
    "        match = dialogue_pattern.match(text)\n",
    "        if match:\n",
    "            character = match.group(1)\n",
    "            dialogue = match.group(2)\n",
    "\n",
    "            words = re.findall(r\"\\b\\w+(?:'\\w+)?\\b\", dialogue.lower())  \n",
    "            for word in words:\n",
    "                character_word_count[character][word] += 1\n",
    "\n",
    "# Dictionary to store word counts\n",
    "character_word_count = defaultdict(lambda: defaultdict(int))\n",
    "\n",
    "# Extract and process transcript links\n",
    "transcript_links = get_transcript_links(start_url)\n",
    "print(f\"Found {len(transcript_links)} transcript links. Processing...\")\n",
    "\n",
    "# Process the first page (Pilot, Part 1)\n",
    "extract_dialogue_data(start_url, character_word_count)\n",
    "\n",
    "# Process additional transcript pages\n",
    "for link in transcript_links:\n",
    "    extract_dialogue_data(link, character_word_count)\n",
    "\n",
    "# Convert data to Pandas DataFrame\n",
    "data = []\n",
    "for character, word_dict in character_word_count.items():\n",
    "    for word, count in word_dict.items():\n",
    "        data.append([character, word, count])\n",
    "\n",
    "df = pd.DataFrame(data, columns=[\"Character\", \"Word\", \"Count\"])\n",
    "\n",
    "print(\"Finished\")\n"
   ]
  },
  {
   "cell_type": "code",
   "execution_count": 12,
   "metadata": {},
   "outputs": [],
   "source": [
    "from stop_words import get_stop_words\n",
    "\n",
    "def generate_word_cloud(character):\n",
    "    stop_words = set(get_stop_words('english'))\n",
    "    stop_words.add(\"subtitle\")\n",
    "    \n",
    "    char_data = df[df[\"Character\"] == character]\n",
    "    char_data_pruned = char_data[~char_data[\"Word\"].isin(stop_words)]\n",
    "    if char_data_pruned.empty:\n",
    "        print(f\"No dialogue found for {character}.\")\n",
    "        return\n",
    "    \n",
    "    word_freq = {row[\"Word\"]: row[\"Count\"] for _, row in char_data_pruned.iterrows()}\n",
    "    \n",
    "    wordcloud = WordCloud(width=800, height=400, background_color=\"white\").generate_from_frequencies(word_freq)\n",
    "    \n",
    "    plt.figure(figsize=(10, 5))\n",
    "    plt.imshow(wordcloud, interpolation=\"bilinear\")\n",
    "    plt.axis(\"off\")\n",
    "    plt.title(f\"Word Cloud for {character}\", fontsize=14)\n",
    "    plt.show()\n"
   ]
  },
  {
   "cell_type": "code",
   "execution_count": 2,
   "metadata": {},
   "outputs": [],
   "source": [
    "df.to_csv('word_frequency.csv', index=False)"
   ]
  }
 ],
 "metadata": {
  "kernelspec": {
   "display_name": "Python 3",
   "language": "python",
   "name": "python3"
  },
  "language_info": {
   "codemirror_mode": {
    "name": "ipython",
    "version": 3
   },
   "file_extension": ".py",
   "mimetype": "text/x-python",
   "name": "python",
   "nbconvert_exporter": "python",
   "pygments_lexer": "ipython3",
   "version": "3.11.0"
  }
 },
 "nbformat": 4,
 "nbformat_minor": 2
}
